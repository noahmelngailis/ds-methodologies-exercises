{
 "cells": [
  {
   "cell_type": "code",
   "execution_count": 98,
   "metadata": {},
   "outputs": [],
   "source": [
    "import pandas as pd\n",
    "from sklearn.model_selection import train_test_split\n",
    "from sklearn.preprocessing import StandardScaler, QuantileTransformer, PowerTransformer, RobustScaler, MinMaxScaler"
   ]
  },
  {
   "cell_type": "code",
   "execution_count": 99,
   "metadata": {},
   "outputs": [],
   "source": [
    "from wrangle import wrangle_telco"
   ]
  },
  {
   "cell_type": "code",
   "execution_count": 100,
   "metadata": {},
   "outputs": [
    {
     "data": {
      "text/html": [
       "<div>\n",
       "<style scoped>\n",
       "    .dataframe tbody tr th:only-of-type {\n",
       "        vertical-align: middle;\n",
       "    }\n",
       "\n",
       "    .dataframe tbody tr th {\n",
       "        vertical-align: top;\n",
       "    }\n",
       "\n",
       "    .dataframe thead th {\n",
       "        text-align: right;\n",
       "    }\n",
       "</style>\n",
       "<table border=\"1\" class=\"dataframe\">\n",
       "  <thead>\n",
       "    <tr style=\"text-align: right;\">\n",
       "      <th></th>\n",
       "      <th>customer_id</th>\n",
       "      <th>monthly_charges</th>\n",
       "      <th>tenure</th>\n",
       "      <th>total_charges</th>\n",
       "    </tr>\n",
       "  </thead>\n",
       "  <tbody>\n",
       "    <tr>\n",
       "      <td>0</td>\n",
       "      <td>0013-SMEOE</td>\n",
       "      <td>109.70</td>\n",
       "      <td>71</td>\n",
       "      <td>7904.25</td>\n",
       "    </tr>\n",
       "    <tr>\n",
       "      <td>1</td>\n",
       "      <td>0014-BMAQU</td>\n",
       "      <td>84.65</td>\n",
       "      <td>63</td>\n",
       "      <td>5377.80</td>\n",
       "    </tr>\n",
       "    <tr>\n",
       "      <td>2</td>\n",
       "      <td>0016-QLJIS</td>\n",
       "      <td>90.45</td>\n",
       "      <td>65</td>\n",
       "      <td>5957.90</td>\n",
       "    </tr>\n",
       "    <tr>\n",
       "      <td>3</td>\n",
       "      <td>0017-DINOC</td>\n",
       "      <td>45.20</td>\n",
       "      <td>54</td>\n",
       "      <td>2460.55</td>\n",
       "    </tr>\n",
       "    <tr>\n",
       "      <td>4</td>\n",
       "      <td>0017-IUDMW</td>\n",
       "      <td>116.80</td>\n",
       "      <td>72</td>\n",
       "      <td>8456.75</td>\n",
       "    </tr>\n",
       "  </tbody>\n",
       "</table>\n",
       "</div>"
      ],
      "text/plain": [
       "  customer_id  monthly_charges  tenure  total_charges\n",
       "0  0013-SMEOE           109.70      71        7904.25\n",
       "1  0014-BMAQU            84.65      63        5377.80\n",
       "2  0016-QLJIS            90.45      65        5957.90\n",
       "3  0017-DINOC            45.20      54        2460.55\n",
       "4  0017-IUDMW           116.80      72        8456.75"
      ]
     },
     "execution_count": 100,
     "metadata": {},
     "output_type": "execute_result"
    }
   ],
   "source": [
    "df = wrangle_telco()\n",
    "df.head()"
   ]
  },
  {
   "cell_type": "code",
   "execution_count": 101,
   "metadata": {},
   "outputs": [],
   "source": [
    "X = df[['monthly_charges', 'tenure']]\n",
    "y = df[['total_charges']]\n",
    "train_pct = .8"
   ]
  },
  {
   "cell_type": "code",
   "execution_count": 102,
   "metadata": {},
   "outputs": [],
   "source": [
    "def split_my_data(X, y, train_pct):\n",
    "    X_train, X_test, y_train, y_test = train_test_split(X, y , train_size = train_pct, random_state = 1)\n",
    "    return X_train, X_test, y_train, y_test\n",
    "\n",
    "# def split_my_data(X, y, train_pct):\n",
    "#     train, test = train_test_split(df, train_size = train_pct, random_state = 47)\n",
    "#     return train, test"
   ]
  },
  {
   "cell_type": "raw",
   "metadata": {},
   "source": [
    "X_train, X_test, y_train, y_test = split_my_data(X, y, train_pct)"
   ]
  },
  {
   "cell_type": "code",
   "execution_count": 103,
   "metadata": {},
   "outputs": [
    {
     "data": {
      "text/html": [
       "<div>\n",
       "<style scoped>\n",
       "    .dataframe tbody tr th:only-of-type {\n",
       "        vertical-align: middle;\n",
       "    }\n",
       "\n",
       "    .dataframe tbody tr th {\n",
       "        vertical-align: top;\n",
       "    }\n",
       "\n",
       "    .dataframe thead th {\n",
       "        text-align: right;\n",
       "    }\n",
       "</style>\n",
       "<table border=\"1\" class=\"dataframe\">\n",
       "  <thead>\n",
       "    <tr style=\"text-align: right;\">\n",
       "      <th></th>\n",
       "      <th>monthly_charges</th>\n",
       "      <th>tenure</th>\n",
       "    </tr>\n",
       "  </thead>\n",
       "  <tbody>\n",
       "    <tr>\n",
       "      <td>1374</td>\n",
       "      <td>80.60</td>\n",
       "      <td>54</td>\n",
       "    </tr>\n",
       "    <tr>\n",
       "      <td>484</td>\n",
       "      <td>110.05</td>\n",
       "      <td>69</td>\n",
       "    </tr>\n",
       "    <tr>\n",
       "      <td>1394</td>\n",
       "      <td>54.85</td>\n",
       "      <td>16</td>\n",
       "    </tr>\n",
       "    <tr>\n",
       "      <td>211</td>\n",
       "      <td>25.45</td>\n",
       "      <td>61</td>\n",
       "    </tr>\n",
       "    <tr>\n",
       "      <td>1049</td>\n",
       "      <td>86.40</td>\n",
       "      <td>71</td>\n",
       "    </tr>\n",
       "    <tr>\n",
       "      <td>...</td>\n",
       "      <td>...</td>\n",
       "      <td>...</td>\n",
       "    </tr>\n",
       "    <tr>\n",
       "      <td>722</td>\n",
       "      <td>99.35</td>\n",
       "      <td>69</td>\n",
       "    </tr>\n",
       "    <tr>\n",
       "      <td>913</td>\n",
       "      <td>20.15</td>\n",
       "      <td>47</td>\n",
       "    </tr>\n",
       "    <tr>\n",
       "      <td>1105</td>\n",
       "      <td>20.00</td>\n",
       "      <td>63</td>\n",
       "    </tr>\n",
       "    <tr>\n",
       "      <td>236</td>\n",
       "      <td>19.75</td>\n",
       "      <td>57</td>\n",
       "    </tr>\n",
       "    <tr>\n",
       "      <td>1070</td>\n",
       "      <td>92.70</td>\n",
       "      <td>65</td>\n",
       "    </tr>\n",
       "  </tbody>\n",
       "</table>\n",
       "<p>1348 rows × 2 columns</p>\n",
       "</div>"
      ],
      "text/plain": [
       "      monthly_charges  tenure\n",
       "1374            80.60      54\n",
       "484            110.05      69\n",
       "1394            54.85      16\n",
       "211             25.45      61\n",
       "1049            86.40      71\n",
       "...               ...     ...\n",
       "722             99.35      69\n",
       "913             20.15      47\n",
       "1105            20.00      63\n",
       "236             19.75      57\n",
       "1070            92.70      65\n",
       "\n",
       "[1348 rows x 2 columns]"
      ]
     },
     "execution_count": 103,
     "metadata": {},
     "output_type": "execute_result"
    }
   ],
   "source": [
    "X_train"
   ]
  },
  {
   "cell_type": "code",
   "execution_count": 110,
   "metadata": {},
   "outputs": [],
   "source": [
    "\n",
    "def standard_scaler(X_train, X_test):\n",
    "    \"\"\"Takes in X_train and X_test and performs standard scaling from the X_train onto X_test\"\"\"\n",
    "    scaler = StandardScaler().fit(X_train)\n",
    "    X_train_scaled = (pd.DataFrame(scaler.transform(X_train),\n",
    "                                  columns=X_train.columns,\n",
    "                                  index=X_train.index))\n",
    "    X_test_scaled = (pd.DataFrame(scaler.transform(X_test),\n",
    "                                 columns=X_test.columns,\n",
    "                                 index=X_test.index))\n",
    "    return scaler, X_train_scaled, X_test_scaled\n"
   ]
  },
  {
   "cell_type": "code",
   "execution_count": 111,
   "metadata": {},
   "outputs": [],
   "source": [
    "scaler, X_train_scaled, X_test_scaled = standard_scaler(X_train, X_test)"
   ]
  },
  {
   "cell_type": "code",
   "execution_count": 116,
   "metadata": {},
   "outputs": [],
   "source": [
    "def scale_inverse(scaler, X_train_scaled, X_test_scaled):\n",
    "    X_train_unscaled = (pd.DataFrame(scaler.inverse_transform(X_train_scaled),\n",
    "                                    columns=X_train_scaled.columns,\n",
    "                                    index=X_train_scaled.index))\n",
    "    X_test_unscaled = (pd.DataFrame(scaler.inverse_transform(X_test_scaled),\n",
    "                                   columns=X_test_scaled.columns,\n",
    "                                   index=X_test_scaled.index))\n",
    "    return X_train_unscaled, X_test_unscaled"
   ]
  },
  {
   "cell_type": "code",
   "execution_count": 118,
   "metadata": {},
   "outputs": [
    {
     "data": {
      "text/html": [
       "<div>\n",
       "<style scoped>\n",
       "    .dataframe tbody tr th:only-of-type {\n",
       "        vertical-align: middle;\n",
       "    }\n",
       "\n",
       "    .dataframe tbody tr th {\n",
       "        vertical-align: top;\n",
       "    }\n",
       "\n",
       "    .dataframe thead th {\n",
       "        text-align: right;\n",
       "    }\n",
       "</style>\n",
       "<table border=\"1\" class=\"dataframe\">\n",
       "  <thead>\n",
       "    <tr style=\"text-align: right;\">\n",
       "      <th></th>\n",
       "      <th>monthly_charges</th>\n",
       "      <th>tenure</th>\n",
       "    </tr>\n",
       "  </thead>\n",
       "  <tbody>\n",
       "    <tr>\n",
       "      <td>1374</td>\n",
       "      <td>80.60</td>\n",
       "      <td>54.0</td>\n",
       "    </tr>\n",
       "    <tr>\n",
       "      <td>484</td>\n",
       "      <td>110.05</td>\n",
       "      <td>69.0</td>\n",
       "    </tr>\n",
       "    <tr>\n",
       "      <td>1394</td>\n",
       "      <td>54.85</td>\n",
       "      <td>16.0</td>\n",
       "    </tr>\n",
       "    <tr>\n",
       "      <td>211</td>\n",
       "      <td>25.45</td>\n",
       "      <td>61.0</td>\n",
       "    </tr>\n",
       "    <tr>\n",
       "      <td>1049</td>\n",
       "      <td>86.40</td>\n",
       "      <td>71.0</td>\n",
       "    </tr>\n",
       "  </tbody>\n",
       "</table>\n",
       "</div>"
      ],
      "text/plain": [
       "      monthly_charges  tenure\n",
       "1374            80.60    54.0\n",
       "484            110.05    69.0\n",
       "1394            54.85    16.0\n",
       "211             25.45    61.0\n",
       "1049            86.40    71.0"
      ]
     },
     "execution_count": 118,
     "metadata": {},
     "output_type": "execute_result"
    }
   ],
   "source": [
    "X_train_unscaled, X_test_unscaled = scale_inverse(scaler, X_train_scaled, X_test_scaled)\n",
    "X_train_unscaled.head()"
   ]
  },
  {
   "cell_type": "code",
   "execution_count": 119,
   "metadata": {},
   "outputs": [],
   "source": [
    "def uniform_scaler(X_train, X_test):\n",
    "    \"\"\"Quantile transformer, non_linear transformation - uniform.\n",
    "       Reduces the impact of outliers, smooths out unusual distributions.\n",
    "       Takes in a X_train and X_test dfs\n",
    "       Returns the scaler, X_train_scaled, X_test_scaled\n",
    "    \"\"\"\n",
    "    scaler = (QuantileTransformer(n_quantiles=100,\n",
    "                                 output_distribution='uniform',\n",
    "                                 random_state=123,\n",
    "                                 copy=True,)\n",
    "                                .fit(X_train))\n",
    "    X_train_scaled = (pd.DataFrame(scaler.transform(X_train),\n",
    "                                  columns=X_train.columns,\n",
    "                                  index=X_train.index))\n",
    "    X_test_scaled = (pd.DataFrame(scaler.transform(X_test),\n",
    "                                 columns=X_test.columns,\n",
    "                                 index=X_test.index))\n",
    "    return scaler, X_train_scaled, X_test_scaled"
   ]
  },
  {
   "cell_type": "code",
   "execution_count": 120,
   "metadata": {},
   "outputs": [],
   "source": [
    "def gaussian_scaler(X_train, X_test):\n",
    "    \"\"\"Transforms and then normalizes data.\n",
    "       Takes in X_train and X_test dfs, \n",
    "       yeo_johnson allows for negative data,\n",
    "       box_cox allows positive data only.\n",
    "       Returns Zero_mean, unit variance normalized X_train_scaled and X_test_scaled and scaler.\n",
    "    \"\"\"\n",
    "    scaler = (PowerTransformer(method='yeo-johnson', \n",
    "                               standardize=False, \n",
    "                               copy=True)\n",
    "                              .fit(X_train))\n",
    "    X_train_scaled = (pd.DataFrame(scaler.transform(X_train), \n",
    "                      columns=X_train.columns, \n",
    "                      index=X_train.index))\n",
    "    X_test_scaled = (pd.DataFrame(scaler.transform(X_test), \n",
    "                     columns=X_test.columns,\n",
    "                     index=X_test.index))\n",
    "    return scaler, X_train_scaled, X_test_scaled"
   ]
  },
  {
   "cell_type": "code",
   "execution_count": 121,
   "metadata": {},
   "outputs": [],
   "source": [
    "def min_max_scaler(X_train, X_test):\n",
    "    \"\"\"Transforms features by scaling each feature to a given range.\n",
    "       Takes in X_train and X_test,\n",
    "       Returns the scaler and X_train_scaled and X_test_scaled within range.\n",
    "       Sensitive to outliers.\n",
    "    \"\"\"\n",
    "    scaler = (MinMaxScaler(copy=True, \n",
    "                           feature_range=(0,1))\n",
    "                          .fit(X_train))\n",
    "    X_train_scaled = (pd.DataFrame(scaler.transform(X_train), \n",
    "                      columns=X_train.columns, \n",
    "                      index=X_train.index))\n",
    "    X_test_scaled = (pd.DataFrame(scaler.transform(X_test), \n",
    "                     columns=X_test.columns,\n",
    "                     index=X_test.index))\n",
    "    return scaler, X_train_scaled, X_test_scaled"
   ]
  },
  {
   "cell_type": "code",
   "execution_count": 122,
   "metadata": {},
   "outputs": [],
   "source": [
    "def iqr_robust_scaler(X_train, X_test):\n",
    "    \"\"\"Scales features using stats that are robust to outliers\n",
    "       by removing the median and scaling data to the IQR.\n",
    "       Takes in a X_train and X_test,\n",
    "       Returns the scaler and X_train_scaled and X_test_scaled.\n",
    "    \"\"\"\n",
    "    scaler = (RobustScaler(quantile_range=(25.0,75.0), \n",
    "                           copy=True, \n",
    "                           with_centering=True, \n",
    "                           with_scaling=True)\n",
    "                          .fit(X_train))\n",
    "    X_train_scaled = (pd.DataFrame(scaler.transform(X_train), \n",
    "                      columns=X_train.columns, \n",
    "                      index=X_train.index))\n",
    "    X_test_scaled = (pd.DataFrame(scaler.transform(X_test), \n",
    "                     columns=X_test.columns,\n",
    "                     index=X_test.index))\n",
    "    return scaler, X_train_scaled, X_test_scaled"
   ]
  },
  {
   "cell_type": "code",
   "execution_count": null,
   "metadata": {},
   "outputs": [],
   "source": []
  }
 ],
 "metadata": {
  "kernelspec": {
   "display_name": "Python 3",
   "language": "python",
   "name": "python3"
  },
  "language_info": {
   "codemirror_mode": {
    "name": "ipython",
    "version": 3
   },
   "file_extension": ".py",
   "mimetype": "text/x-python",
   "name": "python",
   "nbconvert_exporter": "python",
   "pygments_lexer": "ipython3",
   "version": "3.7.4"
  }
 },
 "nbformat": 4,
 "nbformat_minor": 2
}
