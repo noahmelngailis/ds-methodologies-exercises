{
 "cells": [
  {
   "cell_type": "code",
   "execution_count": 1,
   "metadata": {},
   "outputs": [],
   "source": [
    "import pandas as pd\n",
    "import matplotlib.pyplot as plt\n",
    "import seaborn as sns\n",
    "from fbprophet import Prophet\n",
    "\n",
    "%matplotlib inline\n",
    "pd.plotting.register_matplotlib_converters()\n",
    "from math import sqrt\n",
    "\n",
    "# import warnings\n",
    "# warnings.filterwarnings(\"ignore\")"
   ]
  },
  {
   "cell_type": "code",
   "execution_count": 5,
   "metadata": {},
   "outputs": [],
   "source": [
    "dict = [\n",
    "        {\n",
    "        'name': \"Ryan McCall\", \n",
    "        'partial_name': 'My name is Ryan',\n",
    "        'full_name': 'Ryan McCall killed my parents'\n",
    "        },\n",
    "        {\n",
    "        'name': \"Yvonne King\", \n",
    "        'partial_name': 'Some people, Yvonne, call me',\n",
    "        'full_name': 'yes yvonne king is here'\n",
    "        },\n",
    "        {\n",
    "        'name': \"Matt Smith\", \n",
    "        'partial_name': 'Some people, Matt, call me',\n",
    "        'full_name': 'yes matt smith is here'\n",
    "        }\n",
    "       ]"
   ]
  },
  {
   "cell_type": "code",
   "execution_count": 19,
   "metadata": {},
   "outputs": [
    {
     "data": {
      "text/html": [
       "<div>\n",
       "<style scoped>\n",
       "    .dataframe tbody tr th:only-of-type {\n",
       "        vertical-align: middle;\n",
       "    }\n",
       "\n",
       "    .dataframe tbody tr th {\n",
       "        vertical-align: top;\n",
       "    }\n",
       "\n",
       "    .dataframe thead th {\n",
       "        text-align: right;\n",
       "    }\n",
       "</style>\n",
       "<table border=\"1\" class=\"dataframe\">\n",
       "  <thead>\n",
       "    <tr style=\"text-align: right;\">\n",
       "      <th></th>\n",
       "      <th>name</th>\n",
       "      <th>partial_name</th>\n",
       "      <th>full_name</th>\n",
       "      <th>number</th>\n",
       "    </tr>\n",
       "  </thead>\n",
       "  <tbody>\n",
       "    <tr>\n",
       "      <th>0</th>\n",
       "      <td>Ryan McCall</td>\n",
       "      <td>My name is Ryan</td>\n",
       "      <td>Ryan McCall killed my parents</td>\n",
       "      <td>0</td>\n",
       "    </tr>\n",
       "    <tr>\n",
       "      <th>1</th>\n",
       "      <td>Yvonne King</td>\n",
       "      <td>Some people, Yvonne, call me</td>\n",
       "      <td>yes yvonne king is here</td>\n",
       "      <td>2</td>\n",
       "    </tr>\n",
       "    <tr>\n",
       "      <th>2</th>\n",
       "      <td>Matt Smith</td>\n",
       "      <td>Some people, Matt, call me</td>\n",
       "      <td>yes matt smith is here</td>\n",
       "      <td>4</td>\n",
       "    </tr>\n",
       "  </tbody>\n",
       "</table>\n",
       "</div>"
      ],
      "text/plain": [
       "          name                  partial_name                      full_name  \\\n",
       "0  Ryan McCall               My name is Ryan  Ryan McCall killed my parents   \n",
       "1  Yvonne King  Some people, Yvonne, call me        yes yvonne king is here   \n",
       "2   Matt Smith    Some people, Matt, call me         yes matt smith is here   \n",
       "\n",
       "   number  \n",
       "0       0  \n",
       "1       2  \n",
       "2       4  "
      ]
     },
     "execution_count": 19,
     "metadata": {},
     "output_type": "execute_result"
    }
   ],
   "source": [
    "df = pd.DataFrame(dict)\n",
    "df['number'] = df.index * 2\n",
    "df.head()"
   ]
  },
  {
   "cell_type": "code",
   "execution_count": 32,
   "metadata": {},
   "outputs": [],
   "source": [
    "def all_columns_lower_case(df):\n",
    "    \"\"\"makes all objects\"\"\"\n",
    "    for col in df.columns:\n",
    "        if df[col].dtype == 'O':\n",
    "            df[col] = df[col].str.lower()\n",
    "    return df"
   ]
  },
  {
   "cell_type": "code",
   "execution_count": 33,
   "metadata": {},
   "outputs": [],
   "source": [
    "df = all_columns_lower_case(df)"
   ]
  },
  {
   "cell_type": "code",
   "execution_count": 34,
   "metadata": {},
   "outputs": [
    {
     "data": {
      "text/html": [
       "<div>\n",
       "<style scoped>\n",
       "    .dataframe tbody tr th:only-of-type {\n",
       "        vertical-align: middle;\n",
       "    }\n",
       "\n",
       "    .dataframe tbody tr th {\n",
       "        vertical-align: top;\n",
       "    }\n",
       "\n",
       "    .dataframe thead th {\n",
       "        text-align: right;\n",
       "    }\n",
       "</style>\n",
       "<table border=\"1\" class=\"dataframe\">\n",
       "  <thead>\n",
       "    <tr style=\"text-align: right;\">\n",
       "      <th></th>\n",
       "      <th>name</th>\n",
       "      <th>partial_name</th>\n",
       "      <th>full_name</th>\n",
       "      <th>number</th>\n",
       "    </tr>\n",
       "  </thead>\n",
       "  <tbody>\n",
       "    <tr>\n",
       "      <th>0</th>\n",
       "      <td>ryan mccall</td>\n",
       "      <td>my name is ryan</td>\n",
       "      <td>ryan mccall killed my parents</td>\n",
       "      <td>0</td>\n",
       "    </tr>\n",
       "    <tr>\n",
       "      <th>1</th>\n",
       "      <td>yvonne king</td>\n",
       "      <td>some people, yvonne, call me</td>\n",
       "      <td>yes yvonne king is here</td>\n",
       "      <td>2</td>\n",
       "    </tr>\n",
       "    <tr>\n",
       "      <th>2</th>\n",
       "      <td>matt smith</td>\n",
       "      <td>some people, matt, call me</td>\n",
       "      <td>yes matt smith is here</td>\n",
       "      <td>4</td>\n",
       "    </tr>\n",
       "  </tbody>\n",
       "</table>\n",
       "</div>"
      ],
      "text/plain": [
       "          name                  partial_name                      full_name  \\\n",
       "0  ryan mccall               my name is ryan  ryan mccall killed my parents   \n",
       "1  yvonne king  some people, yvonne, call me        yes yvonne king is here   \n",
       "2   matt smith    some people, matt, call me         yes matt smith is here   \n",
       "\n",
       "   number  \n",
       "0       0  \n",
       "1       2  \n",
       "2       4  "
      ]
     },
     "execution_count": 34,
     "metadata": {},
     "output_type": "execute_result"
    }
   ],
   "source": [
    "df.head()"
   ]
  },
  {
   "cell_type": "code",
   "execution_count": 48,
   "metadata": {},
   "outputs": [],
   "source": [
    "#split on first name\n",
    "df['first_name'] = list(df.name.str.split(\" \"))"
   ]
  },
  {
   "cell_type": "code",
   "execution_count": 60,
   "metadata": {},
   "outputs": [
    {
     "data": {
      "text/plain": [
       "0    [ryan, mccall]\n",
       "1    [yvonne, king]\n",
       "2     [matt, smith]\n",
       "Name: name, dtype: object"
      ]
     },
     "execution_count": 60,
     "metadata": {},
     "output_type": "execute_result"
    }
   ],
   "source": [
    "df.name.str.split(\" \")"
   ]
  },
  {
   "cell_type": "code",
   "execution_count": null,
   "metadata": {},
   "outputs": [],
   "source": []
  }
 ],
 "metadata": {
  "kernelspec": {
   "display_name": "Python 3",
   "language": "python",
   "name": "python3"
  },
  "language_info": {
   "codemirror_mode": {
    "name": "ipython",
    "version": 3
   },
   "file_extension": ".py",
   "mimetype": "text/x-python",
   "name": "python",
   "nbconvert_exporter": "python",
   "pygments_lexer": "ipython3",
   "version": "3.7.4"
  }
 },
 "nbformat": 4,
 "nbformat_minor": 2
}
